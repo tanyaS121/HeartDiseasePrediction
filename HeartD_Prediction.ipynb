{
  "nbformat": 4,
  "nbformat_minor": 0,
  "metadata": {
    "colab": {
      "name": "HeartD_Prediction.ipynb",
      "provenance": [],
      "authorship_tag": "ABX9TyNxy69DwJ4t+VenqedAzEcR",
      "include_colab_link": true
    },
    "kernelspec": {
      "name": "python3",
      "display_name": "Python 3"
    },
    "language_info": {
      "name": "python"
    }
  },
  "cells": [
    {
      "cell_type": "markdown",
      "metadata": {
        "id": "view-in-github",
        "colab_type": "text"
      },
      "source": [
        "<a href=\"https://colab.research.google.com/github/tanyaS121/HeartDiseasePrediction/blob/main/HeartD_Prediction.ipynb\" target=\"_parent\"><img src=\"https://colab.research.google.com/assets/colab-badge.svg\" alt=\"Open In Colab\"/></a>"
      ]
    },
    {
      "cell_type": "code",
      "metadata": {
        "id": "snRR-YGHxZeM"
      },
      "source": [
        "import pandas as pd\n",
        "import numpy as np\n",
        "import matplotlib.pyplot as plt\n",
        "import seaborn as sns\n",
        "from sklearn.model_selection import train_test_split\n",
        "from sklearn.preprocessing import StandardScaler\n",
        "from sklearn.neighbors import KNeighborsClassifier\n",
        "from sklearn.model_selection import GridSearchCV\n",
        "from sklearn import metrics\n",
        "%matplotlib inline"
      ],
      "execution_count": 2,
      "outputs": []
    },
    {
      "cell_type": "markdown",
      "metadata": {
        "id": "IFVcwuhpRdmj"
      },
      "source": [
        "Loading the dataset"
      ]
    },
    {
      "cell_type": "code",
      "metadata": {
        "id": "xAB6W-LERFPS"
      },
      "source": [
        "data = pd.read_csv('heart.csv')\n",
        "data.head()"
      ],
      "execution_count": null,
      "outputs": []
    },
    {
      "cell_type": "markdown",
      "metadata": {
        "id": "EyKcf6CIRqx5"
      },
      "source": [
        "Shape of the dataset"
      ]
    },
    {
      "cell_type": "code",
      "metadata": {
        "id": "bV6DXJoeRjmN"
      },
      "source": [
        "data.shape"
      ],
      "execution_count": null,
      "outputs": []
    },
    {
      "cell_type": "markdown",
      "metadata": {
        "id": "xZPB3e6QSWy5"
      },
      "source": [
        "Variable types in the dataset"
      ]
    },
    {
      "cell_type": "code",
      "metadata": {
        "id": "TkOBZcZ_Sa5W"
      },
      "source": [
        "data.dtypes"
      ],
      "execution_count": null,
      "outputs": []
    },
    {
      "cell_type": "markdown",
      "metadata": {
        "id": "jtmWKNHcSyBh"
      },
      "source": [
        "##**EDA AND PRE-PROCESSING**\n"
      ]
    },
    {
      "cell_type": "markdown",
      "metadata": {
        "id": "zn8LiMk9S5Fm"
      },
      "source": [
        "Outcome variable count"
      ]
    },
    {
      "cell_type": "code",
      "metadata": {
        "id": "6KUA4UMATFFr"
      },
      "source": [
        "sns.catplot(x='target', kind='count', palette='ch:.25', data=data)"
      ],
      "execution_count": null,
      "outputs": []
    },
    {
      "cell_type": "markdown",
      "metadata": {
        "id": "G03uIWNtZqCb"
      },
      "source": [
        "Categorical predictive variables"
      ]
    },
    {
      "cell_type": "code",
      "metadata": {
        "id": "wW8E4H7CaHrh"
      },
      "source": [
        "sns.catplot(x='sex', kind='count', hue='target', data=data, palette='ch:.25')"
      ],
      "execution_count": null,
      "outputs": []
    },
    {
      "cell_type": "code",
      "metadata": {
        "id": "xk8TJeTEagkH"
      },
      "source": [
        "sns.catplot(x='cp', kind='count', hue='target', data=data, palette='ch:.25')"
      ],
      "execution_count": null,
      "outputs": []
    },
    {
      "cell_type": "code",
      "metadata": {
        "id": "PZVkjcsSaqMC"
      },
      "source": [
        "sns.catplot(x='fbs', kind='count', hue='target', data=data, palette='ch:.25')"
      ],
      "execution_count": null,
      "outputs": []
    },
    {
      "cell_type": "code",
      "metadata": {
        "id": "B57ulPJ7a5PJ"
      },
      "source": [
        "sns.catplot(x='restecg', kind='count', hue='target', data=data, palette='ch:.25')"
      ],
      "execution_count": null,
      "outputs": []
    },
    {
      "cell_type": "code",
      "metadata": {
        "id": "euG9HwFEbHag"
      },
      "source": [
        "sns.catplot(x='exang', kind='count', hue='target', data=data, palette='ch:.25')"
      ],
      "execution_count": null,
      "outputs": []
    },
    {
      "cell_type": "code",
      "metadata": {
        "id": "UR9YzVTfbaUf"
      },
      "source": [
        "sns.catplot(x='slope', kind='count', hue='target', data=data, palette='ch:.25')"
      ],
      "execution_count": null,
      "outputs": []
    },
    {
      "cell_type": "code",
      "metadata": {
        "id": "MW8YaihDciOG"
      },
      "source": [
        "sns.catplot(x='ca', kind='count', hue='target', data=data, palette='ch:.25')"
      ],
      "execution_count": null,
      "outputs": []
    },
    {
      "cell_type": "code",
      "metadata": {
        "id": "qdTschEWcys8"
      },
      "source": [
        "sns.catplot(x='thal', kind='count', hue='target', data=data, palette='ch:.25')"
      ],
      "execution_count": null,
      "outputs": []
    },
    {
      "cell_type": "markdown",
      "metadata": {
        "id": "2v4XSQyYdcJd"
      },
      "source": [
        "Distributional predictive variables"
      ]
    },
    {
      "cell_type": "code",
      "metadata": {
        "id": "N32IXAzadhcs"
      },
      "source": [
        "data[['age','trestbps','chol','thalach','oldpeak']].describe()"
      ],
      "execution_count": null,
      "outputs": []
    },
    {
      "cell_type": "code",
      "metadata": {
        "id": "fsTSkQOfk2_F"
      },
      "source": [
        "sns.displot(x='age', multiple='stack', hue='target', data=data, palette='ch:.25')"
      ],
      "execution_count": null,
      "outputs": []
    },
    {
      "cell_type": "code",
      "metadata": {
        "id": "wA1K8rBilC1Q"
      },
      "source": [
        "sns.displot(x='trestbps', multiple='stack', hue='target', data=data, palette='ch:.25')"
      ],
      "execution_count": null,
      "outputs": []
    },
    {
      "cell_type": "code",
      "metadata": {
        "id": "bmJ_duZylTvI"
      },
      "source": [
        "sns.displot(x='chol', multiple='stack', hue='target', data=data, palette='ch:.25')"
      ],
      "execution_count": null,
      "outputs": []
    },
    {
      "cell_type": "code",
      "metadata": {
        "id": "UVl_IGkclVYx"
      },
      "source": [
        "sns.displot(x='trestbps', multiple='stack', hue='target', data=data, palette='ch:.25')"
      ],
      "execution_count": null,
      "outputs": []
    },
    {
      "cell_type": "code",
      "metadata": {
        "id": "HpoJhn1AlV-Q"
      },
      "source": [
        "sns.displot(x='oldpeak', multiple='stack', hue='target', data=data, palette='ch:.25')"
      ],
      "execution_count": null,
      "outputs": []
    },
    {
      "cell_type": "markdown",
      "metadata": {
        "id": "g1eLZCellnvZ"
      },
      "source": [
        "## **SPLITTING AND PRE-PROCESSING**"
      ]
    },
    {
      "cell_type": "markdown",
      "metadata": {
        "id": "8d-QVIFmwypL"
      },
      "source": [
        "Defining x_train,x_test,y_train and y_test"
      ]
    },
    {
      "cell_type": "code",
      "metadata": {
        "id": "DQrTdyHrw-dy"
      },
      "source": [
        "x = data.drop('target', axis=1)\n",
        "y = data['target']\n",
        "x_train, x_test, y_train, y_test = train_test_split(x, y, test_size=0.2, random_state=42)"
      ],
      "execution_count": 21,
      "outputs": []
    },
    {
      "cell_type": "markdown",
      "metadata": {
        "id": "bd38EJWDx8K0"
      },
      "source": [
        "Scaling the data"
      ]
    },
    {
      "cell_type": "code",
      "metadata": {
        "id": "rQQL_iwJx_dp"
      },
      "source": [
        "sc = StandardScaler().fit(x_train)\n",
        "x_train = sc.transform(x_train)\n",
        "x_test = sc.transform(x_test)"
      ],
      "execution_count": 23,
      "outputs": []
    },
    {
      "cell_type": "markdown",
      "metadata": {
        "id": "nZEeNEyhyYPO"
      },
      "source": [
        "#TRAINING THE MODEL\n"
      ]
    },
    {
      "cell_type": "code",
      "metadata": {
        "id": "c5eS7054ydiG"
      },
      "source": [
        ""
      ],
      "execution_count": null,
      "outputs": []
    }
  ]
}